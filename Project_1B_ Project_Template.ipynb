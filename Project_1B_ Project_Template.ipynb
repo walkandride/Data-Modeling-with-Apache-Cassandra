{
 "cells": [
  {
   "cell_type": "markdown",
   "metadata": {
    "editable": true
   },
   "source": [
    "# Part I. ETL Pipeline for Pre-Processing the Files"
   ]
  },
  {
   "cell_type": "markdown",
   "metadata": {
    "editable": true
   },
   "source": [
    "## PLEASE RUN THE FOLLOWING CODE FOR PRE-PROCESSING THE FILES"
   ]
  },
  {
   "cell_type": "markdown",
   "metadata": {
    "editable": true
   },
   "source": [
    "#### Import Python packages "
   ]
  },
  {
   "cell_type": "code",
   "execution_count": 1,
   "metadata": {
    "editable": true
   },
   "outputs": [],
   "source": [
    "# Import Python packages \n",
    "import pandas as pd\n",
    "import cassandra\n",
    "import re\n",
    "import os\n",
    "import glob\n",
    "import numpy as np\n",
    "import json\n",
    "import csv"
   ]
  },
  {
   "cell_type": "markdown",
   "metadata": {
    "editable": true
   },
   "source": [
    "#### Creating list of filepaths to process original event csv data files"
   ]
  },
  {
   "cell_type": "code",
   "execution_count": 2,
   "metadata": {
    "editable": true
   },
   "outputs": [
    {
     "name": "stdout",
     "output_type": "stream",
     "text": [
      "/home/workspace\n"
     ]
    }
   ],
   "source": [
    "# checking your current working directory\n",
    "print(os.getcwd())\n",
    "\n",
    "# Get your current folder and subfolder event data\n",
    "filepath = os.getcwd() + '/event_data'\n",
    "\n",
    "# Create a for loop to create a list of files and collect each filepath\n",
    "for root, dirs, files in os.walk(filepath):\n",
    "    \n",
    "# join the file path and roots with the subdirectories using glob\n",
    "    file_path_list = glob.glob(os.path.join(root,'*'))\n",
    "    #print(file_path_list)"
   ]
  },
  {
   "cell_type": "markdown",
   "metadata": {
    "editable": true
   },
   "source": [
    "#### Processing the files to create the data file csv that will be used for Apache Casssandra tables"
   ]
  },
  {
   "cell_type": "code",
   "execution_count": 3,
   "metadata": {
    "editable": true
   },
   "outputs": [],
   "source": [
    "# initiating an empty list of rows that will be generated from each file\n",
    "full_data_rows_list = [] \n",
    "    \n",
    "# for every filepath in the file path list \n",
    "for f in file_path_list:\n",
    "\n",
    "# reading csv file \n",
    "    with open(f, 'r', encoding = 'utf8', newline='') as csvfile: \n",
    "        # creating a csv reader object \n",
    "        csvreader = csv.reader(csvfile) \n",
    "        next(csvreader)\n",
    "        \n",
    " # extracting each data row one by one and append it        \n",
    "        for line in csvreader:\n",
    "            #print(line)\n",
    "            full_data_rows_list.append(line) \n",
    "            \n",
    "# uncomment the code below if you would like to get total number of rows \n",
    "#print(len(full_data_rows_list))\n",
    "# uncomment the code below if you would like to check to see what the list of event data rows will look like\n",
    "#print(full_data_rows_list)\n",
    "\n",
    "# creating a smaller event data csv file called event_datafile_full csv that will be used to insert data into the \\\n",
    "# Apache Cassandra tables\n",
    "csv.register_dialect('myDialect', quoting=csv.QUOTE_ALL, skipinitialspace=True)\n",
    "\n",
    "with open('event_datafile_new.csv', 'w', encoding = 'utf8', newline='') as f:\n",
    "    writer = csv.writer(f, dialect='myDialect')\n",
    "    writer.writerow(['artist','firstName','gender','itemInSession','lastName','length',\\\n",
    "                'level','location','sessionId','song','userId'])\n",
    "    for row in full_data_rows_list:\n",
    "        if (row[0] == ''):\n",
    "            continue\n",
    "        writer.writerow((row[0], row[2], row[3], row[4], row[5], row[6], row[7], row[8], row[12], row[13], row[16]))\n"
   ]
  },
  {
   "cell_type": "code",
   "execution_count": 4,
   "metadata": {
    "editable": true
   },
   "outputs": [
    {
     "name": "stdout",
     "output_type": "stream",
     "text": [
      "6821\n"
     ]
    }
   ],
   "source": [
    "# check the number of rows in your csv file\n",
    "with open('event_datafile_new.csv', 'r', encoding = 'utf8') as f:\n",
    "    print(sum(1 for line in f))"
   ]
  },
  {
   "cell_type": "markdown",
   "metadata": {
    "editable": true
   },
   "source": [
    "# Part II. Complete the Apache Cassandra coding portion of your project. \n",
    "\n",
    "## Now you are ready to work with the CSV file titled <font color=red>event_datafile_new.csv</font>, located within the Workspace directory.  The event_datafile_new.csv contains the following columns: \n",
    "- artist \n",
    "- firstName of user\n",
    "- gender of user\n",
    "- item number in session\n",
    "- last name of user\n",
    "- length of the song\n",
    "- level (paid or free song)\n",
    "- location of the user\n",
    "- sessionId\n",
    "- song title\n",
    "- userId\n",
    "\n",
    "The image below is a screenshot of what the denormalized data should appear like in the <font color=red>**event_datafile_new.csv**</font> after the code above is run:<br>\n",
    "\n",
    "<img src=\"images/image_event_datafile_new.jpg\">"
   ]
  },
  {
   "cell_type": "code",
   "execution_count": 5,
   "metadata": {
    "editable": true
   },
   "outputs": [],
   "source": [
    "# define indexes for the columns in the event_datafile_new.csv file\n",
    "IDX_ARTIST = 0\n",
    "IDX_FIRSTNAME = 1\n",
    "IDX_GENDER = 2\n",
    "IDX_ITEMINSESSION = 3\n",
    "IDX_LASTNAME = 4\n",
    "IDX_LENGTH = 5\n",
    "IDX_LEVEL = 6\n",
    "IDX_LOCATION = 7\n",
    "IDX_SESSIONID = 8\n",
    "IDX_SONG = 9\n",
    "IDX_USERID = 10"
   ]
  },
  {
   "cell_type": "markdown",
   "metadata": {
    "editable": true
   },
   "source": [
    "## Begin writing your Apache Cassandra code in the cells below"
   ]
  },
  {
   "cell_type": "markdown",
   "metadata": {
    "editable": true
   },
   "source": [
    "#### Creating a Cluster"
   ]
  },
  {
   "cell_type": "code",
   "execution_count": 6,
   "metadata": {
    "editable": true
   },
   "outputs": [],
   "source": [
    "from cassandra.cluster import Cluster\n",
    "HOST = '127.0.0.1' # locally installed Apache Cassandra instance\n",
    "\n",
    "try:\n",
    "    # establish Cassandra connection\n",
    "    cluster = Cluster([HOST])\n",
    "    # establish session to preform queries\n",
    "    session = cluster.connect()\n",
    "except Exception as e:\n",
    "    print(e)"
   ]
  },
  {
   "cell_type": "markdown",
   "metadata": {
    "editable": true
   },
   "source": [
    "#### Create Keyspace"
   ]
  },
  {
   "cell_type": "code",
   "execution_count": 7,
   "metadata": {
    "editable": true
   },
   "outputs": [],
   "source": [
    "# Create a Keyspace\n",
    "try:\n",
    "    session.execute(\"\"\"\n",
    "    CREATE KEYSPACE IF NOT EXISTS udacity \n",
    "    WITH REPLICATION = \n",
    "    { 'class' : 'SimpleStrategy', 'replication_factor' : 1 }\n",
    "    \"\"\"\n",
    ")\n",
    "except Exception as e:\n",
    "    print(e)"
   ]
  },
  {
   "cell_type": "markdown",
   "metadata": {
    "editable": true
   },
   "source": [
    "#### Set Keyspace"
   ]
  },
  {
   "cell_type": "code",
   "execution_count": 8,
   "metadata": {
    "editable": true
   },
   "outputs": [],
   "source": [
    "# Set KEYSPACE to the keyspace specified above\n",
    "try:\n",
    "    session.set_keyspace('udacity')\n",
    "except Exception as e:\n",
    "    print(e)"
   ]
  },
  {
   "cell_type": "markdown",
   "metadata": {
    "editable": true
   },
   "source": [
    "### Now we need to create tables to run the following queries. Remember, with Apache Cassandra you model the database tables on the queries you want to run."
   ]
  },
  {
   "cell_type": "markdown",
   "metadata": {
    "editable": true
   },
   "source": [
    "## Create queries to ask the following three questions of the data\n",
    "\n",
    "### 1. Give me the artist, song title and song's length in the music app history that was heard during  sessionId = 338, and itemInSession  = 4\n",
    "\n",
    "\n",
    "### 2. Give me only the following: name of artist, song (sorted by itemInSession) and user (first and last name) for userid = 10, sessionid = 182\n",
    "    \n",
    "\n",
    "### 3. Give me every user name (first and last) in my music app history who listened to the song 'All Hands Against His Own'\n",
    "\n",
    "\n"
   ]
  },
  {
   "cell_type": "markdown",
   "metadata": {
    "editable": true
   },
   "source": [
    "> **Design Notes.**  \n",
    "> 1.  As a best practice, create one table for each SQL statement.\n",
    "> 2.  In terms of table design, put the columns used in the SQL criteria at the beginning and in \n",
    "the order referenced in the criteria."
   ]
  },
  {
   "cell_type": "code",
   "execution_count": 9,
   "metadata": {
    "editable": true
   },
   "outputs": [],
   "source": [
    "## Query 1:  Give me the artist, song title and song's length in the music app history that was heard during \\\n",
    "## sessionId = 338, and itemInSession = 4\n",
    "query = \"\"\"\n",
    "CREATE TABLE IF NOT EXISTS artist_played(\n",
    "    sessionId       INT\n",
    "    , itemInSession INT\n",
    "    , artist        TEXT\n",
    "    , song          TEXT\n",
    "    , length        FLOAT        \n",
    "    , PRIMARY KEY(sessionId, itemInSession)\n",
    ")\n",
    "\"\"\"\n",
    "try:\n",
    "    session.execute(query)\n",
    "except Exception as e:\n",
    "    print(e)\n",
    "    "
   ]
  },
  {
   "cell_type": "markdown",
   "metadata": {
    "editable": true
   },
   "source": [
    "> For a given session and item in session, identify the artist, song title, and song length.  \n",
    "Essentially, identify information about the song and artist played at a given moment.\n",
    "Create table, artist_played, with the relevant columns.  \n",
    "\n",
    "> Exploring the data reveal that sessionId and itemInSession are tied to userId.  In \n",
    "other words, a given user may have one or more session associations (sessionId).  And \n",
    "each session may have one or more items (itemInSession) associated with it.  Knowing\n",
    "this, define a primary key of sessionId and itemInSession."
   ]
  },
  {
   "cell_type": "code",
   "execution_count": 10,
   "metadata": {
    "editable": true
   },
   "outputs": [],
   "source": [
    "# We have provided part of the code to set up the CSV file. Please complete the Apache Cassandra code below#\n",
    "file = 'event_datafile_new.csv'\n",
    "\n",
    "with open(file, encoding = 'utf8') as f:\n",
    "    csvreader = csv.reader(f)\n",
    "    next(csvreader) # skip header\n",
    "    for line in csvreader:\n",
    "        ## Define INSERT statement\n",
    "        query = \"\"\"\n",
    "        INSERT INTO artist_played(\n",
    "            sessionId\n",
    "            , itemInSession\n",
    "            , artist\n",
    "            , song\n",
    "            , length                \n",
    "        ) VALUES (%s, %s, %s, %s, %s)\n",
    "        \"\"\"\n",
    "        ## Assign column element to each column in the INSERT statement.\n",
    "        session.execute(query\n",
    "                        , (int(line[IDX_SESSIONID])\n",
    "                          , int(line[IDX_ITEMINSESSION])\n",
    "                          , line[IDX_ARTIST]\n",
    "                          , line[IDX_SONG]\n",
    "                          , float(line[IDX_LENGTH]))\n",
    "                       )\n"
   ]
  },
  {
   "cell_type": "markdown",
   "metadata": {
    "editable": true
   },
   "source": [
    "#### Do a SELECT to verify that the data have been inserted into each table"
   ]
  },
  {
   "cell_type": "code",
   "execution_count": 11,
   "metadata": {
    "editable": true,
    "scrolled": true
   },
   "outputs": [
    {
     "name": "stdout",
     "output_type": "stream",
     "text": [
      "Faithless Music Matters (Mark Knight Dub) 495.30731201171875\n"
     ]
    }
   ],
   "source": [
    "## Verify the data was entered into the table\n",
    "query = \"\"\"\n",
    "SELECT artist\n",
    "       , song\n",
    "       , length\n",
    "FROM   artist_played\n",
    "WHERE sessionId = 338\n",
    "AND   itemInSession = 4\n",
    "\"\"\"\n",
    "try:\n",
    "    rows = session.execute(query)\n",
    "except Exception as e:\n",
    "    print(e)\n",
    "    \n",
    "for row in rows:\n",
    "    print (row.artist, row.song, row.length)\n"
   ]
  },
  {
   "cell_type": "code",
   "execution_count": 12,
   "metadata": {
    "editable": true
   },
   "outputs": [
    {
     "name": "stdout",
     "output_type": "stream",
     "text": [
      "Down To The Bone Keep On Keepin' On Sylvie Cruz\n",
      "Three Drives Greece 2000 Sylvie Cruz\n",
      "Sebastien Tellier Kilometer Sylvie Cruz\n",
      "Lonnie Gordon Catch You Baby (Steve Pitron & Max Sanna Radio Edit) Sylvie Cruz\n"
     ]
    }
   ],
   "source": [
    "## Query 2: Give me only the following: name of artist, song (sorted by itemInSession) and user (first and last name)\\\n",
    "## for userid = 10, sessionid = 182\n",
    "query = \"\"\"\n",
    "CREATE TABLE IF NOT EXISTS user_playlist(\n",
    "    userid          INT\n",
    "    , sessionId     INT\n",
    "    , itemInSession INT\n",
    "    , artist        TEXT\n",
    "    , song          TEXT\n",
    "    , firstName     TEXT\n",
    "    , lastName      TEXT\n",
    "    , PRIMARY KEY((userid, sessionid), itemInSession)\n",
    ")\n",
    "\"\"\"\n",
    "try:\n",
    "    session.execute(query)\n",
    "except Exception as e:\n",
    "    print(e)\n",
    "\n",
    "with open(file, encoding = 'utf8') as f:\n",
    "    csvreader = csv.reader(f)\n",
    "    next(csvreader) # skip header\n",
    "    for line in csvreader:\n",
    "        query = \"\"\"\n",
    "        INSERT INTO user_playlist(\n",
    "            userid\n",
    "            , sessionId\n",
    "            , itemInSession\n",
    "            , artist\n",
    "            , song\n",
    "            , firstName\n",
    "            , lastName\n",
    "        ) VALUES (%s, %s, %s, %s, %s, %s, %s)\n",
    "        \"\"\"\n",
    "        session.execute(query\n",
    "                        , (int(line[IDX_USERID])\n",
    "                          , int(line[IDX_SESSIONID])\n",
    "                          , int(line[IDX_ITEMINSESSION])\n",
    "                          , line[IDX_ARTIST]\n",
    "                          , line[IDX_SONG]\n",
    "                          , line[IDX_FIRSTNAME]\n",
    "                          , line[IDX_LASTNAME])\n",
    "                       )\n",
    "\n",
    "query = \"\"\"\n",
    "SELECT artist\n",
    "       , song\n",
    "       , firstName\n",
    "       , lastName\n",
    "FROM   user_playlist\n",
    "WHERE userId = 10\n",
    "AND   sessionId = 182\n",
    "\"\"\"\n",
    "try:\n",
    "    rows = session.execute(query)\n",
    "except Exception as e:\n",
    "    print(e)\n",
    "    \n",
    "for row in rows:\n",
    "    print (row.artist, row.song, row.firstname, row.lastname)    "
   ]
  },
  {
   "cell_type": "code",
   "execution_count": 13,
   "metadata": {
    "editable": true
   },
   "outputs": [
    {
     "name": "stdout",
     "output_type": "stream",
     "text": [
      "Down To The Bone Keep On Keepin' On Sylvie Cruz 0\n",
      "Three Drives Greece 2000 Sylvie Cruz 1\n",
      "Sebastien Tellier Kilometer Sylvie Cruz 2\n",
      "Lonnie Gordon Catch You Baby (Steve Pitron & Max Sanna Radio Edit) Sylvie Cruz 3\n"
     ]
    }
   ],
   "source": [
    "# verify the songs are ordered correctly by displaying itemInSession column\n",
    "query = \"\"\"\n",
    "SELECT artist\n",
    "       , song\n",
    "       , firstName\n",
    "       , lastName\n",
    "       , itemInSession\n",
    "FROM   user_playlist\n",
    "WHERE userId = 10\n",
    "AND   sessionId = 182\n",
    "\"\"\"\n",
    "try:\n",
    "    rows = session.execute(query)\n",
    "except Exception as e:\n",
    "    print(e)\n",
    "    \n",
    "for row in rows:\n",
    "    print (row.artist, row.song, row.firstname, row.lastname, row.iteminsession)\n"
   ]
  },
  {
   "cell_type": "markdown",
   "metadata": {
    "editable": true
   },
   "source": [
    "> For a given user and session, identify the artist, song title, and artist name. \n",
    "Create table, user_playlist, with the relevant columns to identify the songs played \n",
    "for a particular user.  Since the results must be sorted by itemInSession, we define\n",
    "this column as a clustering key.  Thus, define a compound partition key composed \n",
    "of sessionId and itemInSession with a cluster key column of itemInSession.\n",
    "\n",
    "> To verify the songs are sorted correctly, display the `itemInSession` column."
   ]
  },
  {
   "cell_type": "code",
   "execution_count": 14,
   "metadata": {
    "editable": true
   },
   "outputs": [
    {
     "name": "stdout",
     "output_type": "stream",
     "text": [
      "Sara Johnson\n",
      "Jacqueline Lynch\n",
      "Tegan Levine\n"
     ]
    }
   ],
   "source": [
    "## Query 3: Give me every user name (first and last) in my music app history who listened to the song 'All Hands Against His Own'\n",
    "query = \"\"\"\n",
    "CREATE TABLE IF NOT EXISTS song_listeners(\n",
    "    song            TEXT\n",
    "    , sessionId     INT\n",
    "    , itemInSession INT\n",
    "    , firstName     TEXT\n",
    "    , lastName      TEXT\n",
    "    , PRIMARY KEY(song, sessionid, itemInSession)\n",
    ")\n",
    "\"\"\"\n",
    "try:\n",
    "    session.execute(query)\n",
    "except Exception as e:\n",
    "    print(e)\n",
    "\n",
    "with open(file, encoding = 'utf8') as f:\n",
    "    csvreader = csv.reader(f)\n",
    "    next(csvreader) # skip header\n",
    "    for line in csvreader:\n",
    "        query = \"\"\"\n",
    "        INSERT INTO song_listeners(\n",
    "            song\n",
    "            , sessionId\n",
    "            , itemInSession\n",
    "            , firstName\n",
    "            , lastName\n",
    "        ) VALUES (%s, %s, %s, %s, %s)\n",
    "        \"\"\"\n",
    "        session.execute(query\n",
    "                        , (line[IDX_SONG]\n",
    "                          , int(line[IDX_SESSIONID])\n",
    "                          , int(line[IDX_ITEMINSESSION])\n",
    "                          , line[IDX_FIRSTNAME]\n",
    "                          , line[IDX_LASTNAME])\n",
    "                       )\n",
    "\n",
    "query = \"\"\"\n",
    "SELECT firstName\n",
    "       , lastName\n",
    "FROM   song_listeners\n",
    "WHERE song = 'All Hands Against His Own'\n",
    "\"\"\"\n",
    "try:\n",
    "    rows = session.execute(query)\n",
    "except Exception as e:\n",
    "    print(e)\n",
    "    \n",
    "for row in rows:\n",
    "    print (row.firstname, row.lastname)\n"
   ]
  },
  {
   "cell_type": "markdown",
   "metadata": {
    "editable": true
   },
   "source": [
    "> Identify the users who listened to a particular song.  Create table, song_listeners, \n",
    "with names of the users for a particular song.  Since a song could be played by many users\n",
    "at different points in time (even repeated), define a compound primary key of the columns\n",
    "song, sessionId, and itemInSession."
   ]
  },
  {
   "cell_type": "markdown",
   "metadata": {
    "editable": true
   },
   "source": [
    "### Drop the tables before closing out the sessions"
   ]
  },
  {
   "cell_type": "code",
   "execution_count": 15,
   "metadata": {
    "editable": true
   },
   "outputs": [
    {
     "name": "stdout",
     "output_type": "stream",
     "text": [
      "...dropped table artist_played\n",
      "...dropped table user_playlist\n",
      "...dropped table song_listeners\n"
     ]
    }
   ],
   "source": [
    "## Drop the table before closing out the sessions\n",
    "query = \"DROP TABLE \"\n",
    "table_list = ['artist_played', 'user_playlist', 'song_listeners']\n",
    "\n",
    "try:\n",
    "    for i in table_list:\n",
    "        rows = session.execute(query + i)\n",
    "        print(\"...dropped table \" + i)\n",
    "except Exception as e:\n",
    "    print(e)\n"
   ]
  },
  {
   "cell_type": "markdown",
   "metadata": {
    "editable": true
   },
   "source": [
    "### Close the session and cluster connection¶"
   ]
  },
  {
   "cell_type": "code",
   "execution_count": 16,
   "metadata": {
    "editable": true
   },
   "outputs": [],
   "source": [
    "session.shutdown()\n",
    "cluster.shutdown()"
   ]
  },
  {
   "cell_type": "code",
   "execution_count": null,
   "metadata": {
    "editable": true
   },
   "outputs": [],
   "source": []
  }
 ],
 "metadata": {
  "kernelspec": {
   "display_name": "Python 3",
   "language": "python",
   "name": "python3"
  },
  "language_info": {
   "codemirror_mode": {
    "name": "ipython",
    "version": 3
   },
   "file_extension": ".py",
   "mimetype": "text/x-python",
   "name": "python",
   "nbconvert_exporter": "python",
   "pygments_lexer": "ipython3",
   "version": "3.6.3"
  }
 },
 "nbformat": 4,
 "nbformat_minor": 4
}
